{
 "cells": [
  {
   "cell_type": "markdown",
   "id": "067e1926",
   "metadata": {},
   "source": [
    "# Task 4: Predicting House Prices Using the Boston Housing Dataset"
   ]
  },
  {
   "cell_type": "markdown",
   "id": "5f652839",
   "metadata": {},
   "source": []
  },
  {
   "cell_type": "code",
   "execution_count": 5,
   "id": "f976c1c8",
   "metadata": {},
   "outputs": [],
   "source": [
    "import pandas as pd\n",
    "import numpy as np\n",
    "import matplotlib.pyplot as plt\n"
   ]
  },
  {
   "cell_type": "markdown",
   "id": "a0f38ad0",
   "metadata": {},
   "source": [
    "# DATASET "
   ]
  },
  {
   "cell_type": "code",
   "execution_count": 6,
   "id": "1e150516",
   "metadata": {},
   "outputs": [],
   "source": [
    "# 1. Load and preprocess the data\n",
    "df = pd.read_csv(\"Boston Houseing Dataset.csv\")\n",
    "X = df[[\"RM\", \"LSTAT\", \"PTRATIO\"]].values\n",
    "y = df[\"MEDV\"].values"
   ]
  },
  {
   "cell_type": "code",
   "execution_count": 7,
   "id": "91393e01",
   "metadata": {},
   "outputs": [],
   "source": [
    "# Train Test\n",
    "np.random.seed(42)\n",
    "idx = np.random.permutation(len(X))\n",
    "train_n = int(0.8 * len(X))\n",
    "tr, te = idx[:train_n], idx[train_n:]\n",
    "X_train, X_test = X[tr], X[te]\n",
    "y_train, y_test = y[tr], y[te]"
   ]
  },
  {
   "cell_type": "markdown",
   "id": "137d74d4",
   "metadata": {},
   "source": [
    "# Models From Scratch\n"
   ]
  },
  {
   "cell_type": "code",
   "execution_count": 8,
   "id": "16b7fad9",
   "metadata": {},
   "outputs": [],
   "source": [
    "# Custom scaler\n",
    "class StandardScalerScratch:\n",
    "    def fit(self, X):\n",
    "        self.mean_ = X.mean(axis=0)\n",
    "        self.scale_ = X.std(axis=0)\n",
    "        self.scale_[self.scale_ == 0] = 1.0\n",
    "    def transform(self, X):\n",
    "        return (X - self.mean_) / self.scale_\n",
    "    def fit_transform(self, X):\n",
    "        self.fit(X)\n",
    "        return self.transform(X)\n",
    "\n",
    "scaler = StandardScalerScratch()\n",
    "X_train = scaler.fit_transform(X_train)\n",
    "X_test = scaler.transform(X_test)"
   ]
  },
  {
   "cell_type": "code",
   "execution_count": 13,
   "id": "ed2107c4",
   "metadata": {},
   "outputs": [],
   "source": [
    "# Linear Regression from scratch\n",
    "class LinearRegressionScratch:\n",
    "    def __init__(self, lr=0.01, n_iters=5000):\n",
    "        self.lr = lr\n",
    "        self.n_iters = n_iters\n",
    "\n",
    "    def fit(self, X, y):\n",
    "        n_samples, n_feats = X.shape\n",
    "        self.w = np.zeros(n_feats)\n",
    "        self.b = 0.0\n",
    "        for _ in range(self.n_iters):\n",
    "            y_pred = X.dot(self.w) + self.b\n",
    "            dw = (1/n_samples) * X.T.dot(y_pred - y)\n",
    "            db = (1/n_samples) * np.sum(y_pred - y)\n",
    "            self.w -= self.lr * dw\n",
    "            self.b -= self.lr * db\n",
    "\n",
    "    def predict(self, X):\n",
    "        return X.dot(self.w) + self.b\n",
    "\n",
    "lin = LinearRegressionScratch()\n",
    "lin.fit(X_train, y_train)\n",
    "y_pred_lr = lin.predict(X_test)"
   ]
  },
  {
   "cell_type": "code",
   "execution_count": 14,
   "id": "5f63b79f",
   "metadata": {},
   "outputs": [],
   "source": [
    "# Decision Tree for use in RF & GB\n",
    "class TreeNode:\n",
    "    def __init__(self, feature=None, thr=None, left=None, right=None, *, value=None):\n",
    "        self.feature = feature\n",
    "        self.thr = thr\n",
    "        self.left = left\n",
    "        self.right = right\n",
    "        self.value = value\n",
    "\n",
    "class DecisionTreeRegressorScratch:\n",
    "    def __init__(self, max_depth=3, min_samples_split=2):\n",
    "        self.max_depth = max_depth\n",
    "        self.min_samples_split = min_samples_split\n",
    "\n",
    "    def fit(self, X, y, depth=0):\n",
    "        # stopping criteria\n",
    "        if depth >= self.max_depth or len(y) < self.min_samples_split or np.all(y == y[0]):\n",
    "            return TreeNode(value=y.mean())\n",
    "\n",
    "        best_mse = np.inf\n",
    "        best_feat = best_thr = None\n",
    "        n_samples, n_feats = X.shape\n",
    "\n",
    "        # find best split\n",
    "        for feat in range(n_feats):\n",
    "            for thr in np.unique(X[:, feat]):\n",
    "                left_idx = X[:, feat] <= thr\n",
    "                right_idx = ~left_idx\n",
    "                if left_idx.sum() == 0 or right_idx.sum() == 0:\n",
    "                    continue\n",
    "                y_l, y_r = y[left_idx], y[right_idx]\n",
    "                mse_l = y_l.var() * len(y_l)\n",
    "                mse_r = y_r.var() * len(y_r)\n",
    "                if mse_l + mse_r < best_mse:\n",
    "                    best_mse, best_feat, best_thr = mse_l + mse_r, feat, thr\n",
    "\n",
    "        if best_feat is None:\n",
    "            return TreeNode(value=y.mean())\n",
    "\n",
    "        left = self.fit(X[X[:, best_feat] <= best_thr], y[X[:, best_feat] <= best_thr], depth+1)\n",
    "        right= self.fit(X[X[:, best_feat] >  best_thr], y[X[:, best_feat] >  best_thr], depth+1)\n",
    "        return TreeNode(feature=best_feat, thr=best_thr, left=left, right=right)\n",
    "\n",
    "    def fit_tree(self, X, y):\n",
    "        self.tree_ = self.fit(X, y)\n",
    "\n",
    "    def _predict_row(self, x, node):\n",
    "        if node.value is not None:\n",
    "            return node.value\n",
    "        if x[node.feature] <= node.thr:\n",
    "            return self._predict_row(x, node.left)\n",
    "        else:\n",
    "            return self._predict_row(x, node.right)\n",
    "\n",
    "    def predict(self, X):\n",
    "        return np.array([self._predict_row(x, self.tree_) for x in X])"
   ]
  },
  {
   "cell_type": "code",
   "execution_count": 15,
   "id": "efa7cb85",
   "metadata": {},
   "outputs": [],
   "source": [
    "# Random Forest from scratch\n",
    "class RandomForestRegressorScratch:\n",
    "    def __init__(self, n_estimators=20, max_depth=5, min_samples_split=2, max_feats='sqrt'):\n",
    "        self.n_estimators = n_estimators\n",
    "        self.max_depth = max_depth\n",
    "        self.min_samples_split = min_samples_split\n",
    "        self.max_feats = max_feats\n",
    "        self.trees = []\n",
    "\n",
    "    def fit(self, X, y):\n",
    "        n_samples, n_feats = X.shape\n",
    "        k = int(np.sqrt(n_feats)) if self.max_feats == 'sqrt' else n_feats\n",
    "        for _ in range(self.n_estimators):\n",
    "            idxs = np.random.choice(n_samples, n_samples, replace=True)\n",
    "            feat_idxs = np.random.choice(n_feats, k, replace=False)\n",
    "            tree = DecisionTreeRegressorScratch(max_depth=self.max_depth,\n",
    "                                                min_samples_split=self.min_samples_split)\n",
    "            tree.fit_tree(X[idxs][:, feat_idxs], y[idxs])\n",
    "            tree.feat_idxs = feat_idxs\n",
    "            self.trees.append(tree)\n",
    "\n",
    "    def predict(self, X):\n",
    "        preds = np.array([t.predict(X[:, t.feat_idxs]) for t in self.trees])\n",
    "        return preds.mean(axis=0)\n",
    "\n",
    "rf = RandomForestRegressorScratch()\n",
    "rf.fit(X_train, y_train)\n",
    "y_pred_rf = rf.predict(X_test)"
   ]
  },
  {
   "cell_type": "code",
   "execution_count": 21,
   "id": "efa9bf5b",
   "metadata": {},
   "outputs": [],
   "source": [
    "# XGBoost-like Gradient Boosting from scratch\n",
    "class XGBoostScratch:\n",
    "    def __init__(self, n_estimators=20, learning_rate=0.1, max_depth=3, min_samples_split=2):\n",
    "        self.n_estimators = n_estimators\n",
    "        self.lr = learning_rate\n",
    "        self.max_depth = max_depth\n",
    "        self.min_samples_split = min_samples_split\n",
    "        self.trees = []\n",
    "\n",
    "    def fit(self, X, y):\n",
    "        self.F0 = y.mean()\n",
    "        Fm = np.full_like(y, self.F0, dtype=float)\n",
    "        for _ in range(self.n_estimators):\n",
    "            residual = y - Fm\n",
    "            tree = DecisionTreeRegressorScratch(max_depth=self.max_depth,\n",
    "                                                min_samples_split=self.min_samples_split)\n",
    "            tree.fit_tree(X, residual)\n",
    "            update = tree.predict(X)\n",
    "            Fm += self.lr * update\n",
    "            self.trees.append(tree)\n",
    "\n",
    "    def predict(self, X):\n",
    "        Fm = np.full((len(X),), self.F0, dtype=float)\n",
    "        for t in self.trees:\n",
    "            Fm += self.lr * t.predict(X)\n",
    "        return Fm\n",
    "\n",
    "xgb = XGBoostScratch()\n",
    "xgb.fit(X_train, y_train)\n",
    "y_pred_xgb = xgb.predict(X_test)\n",
    "\n",
    "\n"
   ]
  },
  {
   "cell_type": "markdown",
   "id": "a27867ed",
   "metadata": {},
   "source": [
    "# Visualization"
   ]
  },
  {
   "cell_type": "code",
   "execution_count": null,
   "id": "f0a69b55",
   "metadata": {},
   "outputs": [
    {
     "data": {
      "text/html": [
       "<div>\n",
       "<style scoped>\n",
       "    .dataframe tbody tr th:only-of-type {\n",
       "        vertical-align: middle;\n",
       "    }\n",
       "\n",
       "    .dataframe tbody tr th {\n",
       "        vertical-align: top;\n",
       "    }\n",
       "\n",
       "    .dataframe thead th {\n",
       "        text-align: right;\n",
       "    }\n",
       "</style>\n",
       "<table border=\"1\" class=\"dataframe\">\n",
       "  <thead>\n",
       "    <tr style=\"text-align: right;\">\n",
       "      <th></th>\n",
       "      <th>Model</th>\n",
       "      <th>RMSE</th>\n",
       "      <th>R²</th>\n",
       "    </tr>\n",
       "  </thead>\n",
       "  <tbody>\n",
       "    <tr>\n",
       "      <th>0</th>\n",
       "      <td>Linear Scratch</td>\n",
       "      <td>77894.663353</td>\n",
       "      <td>0.752681</td>\n",
       "    </tr>\n",
       "    <tr>\n",
       "      <th>1</th>\n",
       "      <td>Random Forest Scratch</td>\n",
       "      <td>76460.271198</td>\n",
       "      <td>0.761705</td>\n",
       "    </tr>\n",
       "    <tr>\n",
       "      <th>2</th>\n",
       "      <td>XGBoost Scratch</td>\n",
       "      <td>61115.177685</td>\n",
       "      <td>0.847756</td>\n",
       "    </tr>\n",
       "  </tbody>\n",
       "</table>\n",
       "</div>"
      ],
      "text/plain": [
       "                   Model          RMSE        R²\n",
       "0         Linear Scratch  77894.663353  0.752681\n",
       "1  Random Forest Scratch  76460.271198  0.761705\n",
       "2        XGBoost Scratch  61115.177685  0.847756"
      ]
     },
     "metadata": {},
     "output_type": "display_data"
    }
   ],
   "source": [
    "# Performance Comparison\n",
    "def rmse(a, b):\n",
    "    return np.sqrt(np.mean((a - b)**2))\n",
    "\n",
    "def r2(a, b):\n",
    "    return 1 - np.sum((a - b)**2) / np.sum((a - a.mean())**2)\n",
    "\n",
    "results = pd.DataFrame({\n",
    "    \"Model\": [\"Linear Scratch\", \"Random Forest Scratch\", \"XGBoost Scratch\"],\n",
    "    \"RMSE\": [rmse(y_test, y_pred_lr), rmse(y_test, y_pred_rf), rmse(y_test, y_pred_xgb)],\n",
    "    \"R²\":   [r2(y_test, y_pred_lr),   r2(y_test, y_pred_rf),   r2(y_test, y_pred_xgb)]\n",
    "})\n",
    "from IPython.display import display\n",
    "display(results)"
   ]
  },
  {
   "cell_type": "code",
   "execution_count": 20,
   "id": "1e13a10b",
   "metadata": {},
   "outputs": [
    {
     "data": {
      "image/png": "[encoded data removed]",
      "text/plain": [
       "<Figure size 640x480 with 1 Axes>"
      ]
     },
     "metadata": {},
     "output_type": "display_data"
    },
    {
     "data": {
      "image/png": "[encoded data removed]",
      "text/plain": [
       "<Figure size 640x480 with 1 Axes>"
      ]
     },
     "metadata": {},
     "output_type": "display_data"
    }
   ],
   "source": [
    "# Feature Importance (frequency of splits)\n",
    "feature_names = [\"RM\", \"LSTAT\", \"PTRATIO\"]\n",
    "\n",
    "def count_splits(tree, counts):\n",
    "    if tree.feature is None:\n",
    "        return\n",
    "    counts[tree.feature] += 1\n",
    "    count_splits(tree.left, counts)\n",
    "    count_splits(tree.right, counts)\n",
    "\n",
    "# Random Forest importance\n",
    "rf_counts = np.zeros(len(feature_names))\n",
    "for t in rf.trees:\n",
    "    count_splits(t.tree_, rf_counts)\n",
    "rf_importance = rf_counts / rf_counts.sum()\n",
    "\n",
    "plt.figure()\n",
    "plt.barh(feature_names, rf_importance)\n",
    "plt.xlabel(\"Relative Split Frequency\")\n",
    "plt.title(\"Random Forest Scratch - Feature Importance\")\n",
    "plt.tight_layout()\n",
    "plt.show()\n",
    "\n",
    "# XGBoost importance\n",
    "xgb_counts = np.zeros(len(feature_names))\n",
    "for t in xgb.trees:\n",
    "    count_splits(t.tree_, xgb_counts)\n",
    "xgb_importance = xgb_counts / xgb_counts.sum()\n",
    "\n",
    "plt.figure()\n",
    "plt.barh(feature_names, xgb_importance)\n",
    "plt.xlabel(\"Relative Split Frequency\")\n",
    "plt.title(\"XGBoost Scratch - Feature Importance\")\n",
    "plt.tight_layout()\n",
    "plt.show()"
   ]
  },
  {
   "cell_type": "code",
   "execution_count": null,
   "id": "45e7ffb2",
   "metadata": {},
   "outputs": [],
   "source": []
  }
 ],
 "metadata": {
  "kernelspec": {
   "display_name": "Python 3",
   "language": "python",
   "name": "python3"
  },
  "language_info": {
   "codemirror_mode": {
    "name": "ipython",
    "version": 3
   },
   "file_extension": ".py",
   "mimetype": "text/x-python",
   "name": "python",
   "nbconvert_exporter": "python",
   "pygments_lexer": "ipython3",
   "version": "3.12.6"
  }
 },
 "nbformat": 4,
 "nbformat_minor": 5
}
